{
  "nbformat": 4,
  "nbformat_minor": 0,
  "metadata": {
    "colab": {
      "provenance": [],
      "authorship_tag": "ABX9TyMZmYL+hZfWBx4vqtZtD0pi",
      "include_colab_link": true
    },
    "kernelspec": {
      "name": "python3",
      "display_name": "Python 3"
    },
    "language_info": {
      "name": "python"
    }
  },
  "cells": [
    {
      "cell_type": "markdown",
      "metadata": {
        "id": "view-in-github",
        "colab_type": "text"
      },
      "source": [
        "<a href=\"https://colab.research.google.com/github/fdd-eiu/afew/blob/main/afew_licensing_exercise_1.ipynb\" target=\"_parent\"><img src=\"https://colab.research.google.com/assets/colab-badge.svg\" alt=\"Open In Colab\"/></a>"
      ]
    },
    {
      "cell_type": "markdown",
      "source": [
        "# Exercise 1\n",
        "\n",
        "The first exercise is revision we are going to go over the notes [Notes on the Gordon-\n",
        "Schaefer model](https://github.com/fdd-eiu/afew/blob/main/notes-gordon-schaefer.pdf) see p.2.\n",
        "\n",
        "So read these as you attempt the following exercises."
      ],
      "metadata": {
        "id": "TugBdcVyDPt3"
      }
    },
    {
      "cell_type": "markdown",
      "source": [
        "Q.1. In the following code cell import the math  and SymPy modules"
      ],
      "metadata": {
        "id": "bfsNzSShD6HX"
      }
    },
    {
      "cell_type": "code",
      "source": [],
      "metadata": {
        "id": "8nIF8q9vEDfi"
      },
      "execution_count": null,
      "outputs": []
    },
    {
      "cell_type": "markdown",
      "source": [
        "Q.2. Define symbols f,t, and r (see the notes for the code you need)"
      ],
      "metadata": {
        "id": "SATJfzjoEEDD"
      }
    },
    {
      "cell_type": "code",
      "source": [],
      "metadata": {
        "id": "uVevRbQCEmwt"
      },
      "execution_count": null,
      "outputs": []
    },
    {
      "cell_type": "markdown",
      "source": [
        "Q.3. Define as a function the following ordinary differential equation using SymPy\n",
        "\n",
        "$\\frac{df(t)}{dt} = r$\n",
        "\n"
      ],
      "metadata": {
        "id": "udfSBcrgEhNL"
      }
    },
    {
      "cell_type": "markdown",
      "source": [
        "Solve this differential equation symbolicaly (see the notes for the required code)"
      ],
      "metadata": {
        "id": "sXhpINZcGBvG"
      }
    },
    {
      "cell_type": "code",
      "source": [],
      "metadata": {
        "id": "Dq6IzestGJSr"
      },
      "execution_count": null,
      "outputs": []
    },
    {
      "cell_type": "markdown",
      "source": [
        "## Now let's do some substitutions \n",
        "\n",
        "Because $f(t) = C_1 + rt$ \n",
        "\n",
        "Isn't yet a complete solution. $C_1$ is unknown. To find it, set $t=0$ so that\n",
        "\n",
        "$f(0) = C_1$ we are going to rename this to $x(0)$.\n",
        "\n",
        "Follow the subsitutions in the notes on p.2."
      ],
      "metadata": {
        "id": "_7JvABabGixY"
      }
    },
    {
      "cell_type": "code",
      "source": [],
      "metadata": {
        "id": "bPuJC0ejHbwN"
      },
      "execution_count": null,
      "outputs": []
    },
    {
      "cell_type": "markdown",
      "source": [
        "Q.4. Plot the solution for $x(0)=1$ and r = 0.01, 0.02 and 0.03. In three successive cells."
      ],
      "metadata": {
        "id": "noi6UUWBHcgQ"
      }
    },
    {
      "cell_type": "code",
      "source": [],
      "metadata": {
        "id": "c47KfgojHueN"
      },
      "execution_count": null,
      "outputs": []
    },
    {
      "cell_type": "code",
      "source": [],
      "metadata": {
        "id": "0BC0gk3hHu1N"
      },
      "execution_count": null,
      "outputs": []
    },
    {
      "cell_type": "code",
      "source": [],
      "metadata": {
        "id": "Hq7JogKFHvE5"
      },
      "execution_count": null,
      "outputs": []
    },
    {
      "cell_type": "markdown",
      "source": [
        "Q.5. Describe in words what you did in this exercise!"
      ],
      "metadata": {
        "id": "9oZCcLHdw13V"
      }
    },
    {
      "cell_type": "markdown",
      "source": [],
      "metadata": {
        "id": "wm184HVyw7VO"
      }
    }
  ]
}